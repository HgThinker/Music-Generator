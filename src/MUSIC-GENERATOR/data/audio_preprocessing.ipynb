{
 "cells": [
  {
   "cell_type": "code",
   "execution_count": 3,
   "metadata": {},
   "outputs": [],
   "source": [
    "%%capture\n",
    "! pip install datasets[audio] yt-dlp\n",
    "\n",
    "# For the interactive interface we'll need gradio\n",
    "! pip install gradio"
   ]
  },
  {
   "cell_type": "code",
   "execution_count": 1,
   "metadata": {},
   "outputs": [
    {
     "name": "stderr",
     "output_type": "stream",
     "text": [
      "c:\\Users\\ADMIN\\anaconda3\\envs\\CS337\\lib\\site-packages\\tqdm\\auto.py:21: TqdmWarning: IProgress not found. Please update jupyter and ipywidgets. See https://ipywidgets.readthedocs.io/en/stable/user_install.html\n",
      "  from .autonotebook import tqdm as notebook_tqdm\n"
     ]
    }
   ],
   "source": [
    "import subprocess\n",
    "import os\n",
    "from pathlib import Path\n",
    "from datasets import load_dataset, Audio\n",
    "from scipy.io import wavfile"
   ]
  },
  {
   "cell_type": "code",
   "execution_count": 2,
   "metadata": {},
   "outputs": [],
   "source": [
    "def dataset_loadfromdisk():\n",
    "    path_root = os.getcwd()\n",
    "    dataset_dir =  os.path.abspath(os.path.join(path_root ,\"../../..\",\"data\\music_data\"))\n",
    "    files = [f for f in os.listdir(dataset_dir) if f.endswith(\".wav\")]\n",
    "    files_name = [os.path.splitext(name)[0] for name in files]\n",
    "    ds = load_dataset('HgThinker/Music_Gen', split='train').to_pandas()\n",
    "    new_df = ds.loc[ds['ytid'].isin(files_name)]\n",
    "    for index,row in new_df.iterrows():\n",
    "        # print(row['ytid'])\n",
    "        samplerate, data = wavfile.read(os.path.abspath(os.path.join(dataset_dir ,row['ytid'] +'.wav')))\n",
    "        row['audio']['bytes'] = data\n",
    "    return new_df"
   ]
  },
  {
   "cell_type": "code",
   "execution_count": 7,
   "metadata": {},
   "outputs": [],
   "source": [
    "def select_data():\n",
    "    ds = dataset_loadfromdisk()\n",
    "    \n",
    "    ytid_list = ds['ytid'].to_list()\n",
    "    aspect_list = ds['aspect_list'].to_list()\n",
    "    caption_list = ds['caption'].to_list()\n",
    "    bytes_list = [entry['bytes'] for entry in ds['audio']]\n",
    "    return ytid_list, aspect_list, caption_list, bytes_list"
   ]
  },
  {
   "cell_type": "code",
   "execution_count": 8,
   "metadata": {},
   "outputs": [],
   "source": [
    "a, b, c, d = select_data()"
   ]
  },
  {
   "cell_type": "code",
   "execution_count": 32,
   "metadata": {},
   "outputs": [
    {
     "name": "stderr",
     "output_type": "stream",
     "text": [
      "Resolving data files: 100%|██████████| 217/217 [00:00<00:00, 217015.73it/s]\n"
     ]
    },
    {
     "ename": "KeyError",
     "evalue": "\"Invalid key: 0. Please first select a split. For example: `my_dataset_dictionary['train'][0]`. Available splits: ['train']\"",
     "output_type": "error",
     "traceback": [
      "\u001b[1;31m---------------------------------------------------------------------------\u001b[0m",
      "\u001b[1;31mKeyError\u001b[0m                                  Traceback (most recent call last)",
      "\u001b[1;32md:\\Documents\\Sound_and_voice_preprocess\\Music-Generator\\src\\MUSIC-GENERATOR\\data\\audio_preprocessing.ipynb Cell 4\u001b[0m line \u001b[0;36m7\n\u001b[0;32m      <a href='vscode-notebook-cell:/d%3A/Documents/Sound_and_voice_preprocess/Music-Generator/src/MUSIC-GENERATOR/data/audio_preprocessing.ipynb#W3sZmlsZQ%3D%3D?line=4'>5</a>\u001b[0m     \u001b[39mreturn\u001b[39;00m ex[\u001b[39m'\u001b[39m\u001b[39maudio\u001b[39m\u001b[39m'\u001b[39m][\u001b[39m'\u001b[39m\u001b[39mpath\u001b[39m\u001b[39m'\u001b[39m], ex[\u001b[39m'\u001b[39m\u001b[39mcaption\u001b[39m\u001b[39m'\u001b[39m]\n\u001b[0;32m      <a href='vscode-notebook-cell:/d%3A/Documents/Sound_and_voice_preprocess/Music-Generator/src/MUSIC-GENERATOR/data/audio_preprocessing.ipynb#W3sZmlsZQ%3D%3D?line=5'>6</a>\u001b[0m \u001b[39mfor\u001b[39;00m i \u001b[39min\u001b[39;00m \u001b[39mrange\u001b[39m(\u001b[39mlen\u001b[39m(dataset)):\n\u001b[1;32m----> <a href='vscode-notebook-cell:/d%3A/Documents/Sound_and_voice_preprocess/Music-Generator/src/MUSIC-GENERATOR/data/audio_preprocessing.ipynb#W3sZmlsZQ%3D%3D?line=6'>7</a>\u001b[0m     path,cap \u001b[39m=\u001b[39m get_example(i)\n\u001b[0;32m      <a href='vscode-notebook-cell:/d%3A/Documents/Sound_and_voice_preprocess/Music-Generator/src/MUSIC-GENERATOR/data/audio_preprocessing.ipynb#W3sZmlsZQ%3D%3D?line=7'>8</a>\u001b[0m     \u001b[39mprint\u001b[39m(\u001b[39m\"\u001b[39m\u001b[39mPath: \u001b[39m\u001b[39m\"\u001b[39m,path,\u001b[39m\"\u001b[39m\u001b[39m\\t\u001b[39;00m\u001b[39m Cap: \u001b[39m\u001b[39m\"\u001b[39m,cap)\n",
      "\u001b[1;32md:\\Documents\\Sound_and_voice_preprocess\\Music-Generator\\src\\MUSIC-GENERATOR\\data\\audio_preprocessing.ipynb Cell 4\u001b[0m line \u001b[0;36m4\n\u001b[0;32m      <a href='vscode-notebook-cell:/d%3A/Documents/Sound_and_voice_preprocess/Music-Generator/src/MUSIC-GENERATOR/data/audio_preprocessing.ipynb#W3sZmlsZQ%3D%3D?line=2'>3</a>\u001b[0m \u001b[39mdef\u001b[39;00m \u001b[39mget_example\u001b[39m(idx):\n\u001b[1;32m----> <a href='vscode-notebook-cell:/d%3A/Documents/Sound_and_voice_preprocess/Music-Generator/src/MUSIC-GENERATOR/data/audio_preprocessing.ipynb#W3sZmlsZQ%3D%3D?line=3'>4</a>\u001b[0m     ex \u001b[39m=\u001b[39m dataset[idx]\n\u001b[0;32m      <a href='vscode-notebook-cell:/d%3A/Documents/Sound_and_voice_preprocess/Music-Generator/src/MUSIC-GENERATOR/data/audio_preprocessing.ipynb#W3sZmlsZQ%3D%3D?line=4'>5</a>\u001b[0m     \u001b[39mreturn\u001b[39;00m ex[\u001b[39m'\u001b[39m\u001b[39maudio\u001b[39m\u001b[39m'\u001b[39m][\u001b[39m'\u001b[39m\u001b[39mpath\u001b[39m\u001b[39m'\u001b[39m], ex[\u001b[39m'\u001b[39m\u001b[39mcaption\u001b[39m\u001b[39m'\u001b[39m]\n",
      "File \u001b[1;32md:\\anaconda3\\envs\\Music_Gen\\Lib\\site-packages\\datasets-2.15.0-py3.12.egg\\datasets\\dataset_dict.py:67\u001b[0m, in \u001b[0;36mDatasetDict.__getitem__\u001b[1;34m(self, k)\u001b[0m\n\u001b[0;32m     63\u001b[0m available_suggested_splits \u001b[39m=\u001b[39m [\n\u001b[0;32m     64\u001b[0m     split \u001b[39mfor\u001b[39;00m split \u001b[39min\u001b[39;00m (Split\u001b[39m.\u001b[39mTRAIN, Split\u001b[39m.\u001b[39mTEST, Split\u001b[39m.\u001b[39mVALIDATION) \u001b[39mif\u001b[39;00m split \u001b[39min\u001b[39;00m \u001b[39mself\u001b[39m\n\u001b[0;32m     65\u001b[0m ]\n\u001b[0;32m     66\u001b[0m suggested_split \u001b[39m=\u001b[39m available_suggested_splits[\u001b[39m0\u001b[39m] \u001b[39mif\u001b[39;00m available_suggested_splits \u001b[39melse\u001b[39;00m \u001b[39mlist\u001b[39m(\u001b[39mself\u001b[39m)[\u001b[39m0\u001b[39m]\n\u001b[1;32m---> 67\u001b[0m \u001b[39mraise\u001b[39;00m \u001b[39mKeyError\u001b[39;00m(\n\u001b[0;32m     68\u001b[0m     \u001b[39mf\u001b[39m\u001b[39m\"\u001b[39m\u001b[39mInvalid key: \u001b[39m\u001b[39m{\u001b[39;00mk\u001b[39m}\u001b[39;00m\u001b[39m. Please first select a split. For example: \u001b[39m\u001b[39m\"\u001b[39m\n\u001b[0;32m     69\u001b[0m     \u001b[39mf\u001b[39m\u001b[39m\"\u001b[39m\u001b[39m`my_dataset_dictionary[\u001b[39m\u001b[39m'\u001b[39m\u001b[39m{\u001b[39;00msuggested_split\u001b[39m}\u001b[39;00m\u001b[39m'\u001b[39m\u001b[39m][\u001b[39m\u001b[39m{\u001b[39;00mk\u001b[39m}\u001b[39;00m\u001b[39m]`. \u001b[39m\u001b[39m\"\u001b[39m\n\u001b[0;32m     70\u001b[0m     \u001b[39mf\u001b[39m\u001b[39m\"\u001b[39m\u001b[39mAvailable splits: \u001b[39m\u001b[39m{\u001b[39;00m\u001b[39msorted\u001b[39m(\u001b[39mself\u001b[39m)\u001b[39m}\u001b[39;00m\u001b[39m\"\u001b[39m\n\u001b[0;32m     71\u001b[0m )\n",
      "\u001b[1;31mKeyError\u001b[0m: \"Invalid key: 0. Please first select a split. For example: `my_dataset_dictionary['train'][0]`. Available splits: ['train']\""
     ]
    }
   ],
   "source": [
    "import gradio as gr\n",
    "dataset = dataset_loadfromdisk()\n",
    "def get_example(idx):\n",
    "    ex = dataset[idx]\n",
    "    return ex['audio']['path'], ex['caption']\n",
    "for i in range(len(dataset)):\n",
    "    path,cap = get_example(i)\n",
    "    print(\"Path: \",path,\"\\t Cap: \",cap)"
   ]
  },
  {
   "cell_type": "code",
   "execution_count": null,
   "metadata": {},
   "outputs": [],
   "source": []
  }
 ],
 "metadata": {
  "kernelspec": {
   "display_name": "Music_Gen",
   "language": "python",
   "name": "python3"
  },
  "language_info": {
   "codemirror_mode": {
    "name": "ipython",
    "version": 3
   },
   "file_extension": ".py",
   "mimetype": "text/x-python",
   "name": "python",
   "nbconvert_exporter": "python",
   "pygments_lexer": "ipython3",
   "version": "3.11.5"
  }
 },
 "nbformat": 4,
 "nbformat_minor": 2
}
