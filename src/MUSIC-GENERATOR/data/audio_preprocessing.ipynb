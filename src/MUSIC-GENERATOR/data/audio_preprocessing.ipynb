{
 "cells": [
  {
   "cell_type": "code",
   "execution_count": 7,
   "metadata": {},
   "outputs": [
    {
     "name": "stdout",
     "output_type": "stream",
     "text": [
      "d:\\Documents\\Sound_and_voice_preprocess\\Music-Generator\n"
     ]
    }
   ],
   "source": [
    "%cd .."
   ]
  },
  {
   "cell_type": "code",
   "execution_count": 3,
   "metadata": {},
   "outputs": [
    {
     "name": "stderr",
     "output_type": "stream",
     "text": [
      "WARNING[XFORMERS]: xFormers can't load C++/CUDA extensions. xFormers was built for:\n",
      "    PyTorch 2.1.0+cu121 with CUDA 1201 (you have 2.1.0+cpu)\n",
      "    Python  3.11.6 (you have 3.11.5)\n",
      "  Please reinstall xformers (see https://github.com/facebookresearch/xformers#installing-xformers)\n",
      "  Memory-efficient attention, SwiGLU, sparse and more won't be available.\n",
      "  Set XFORMERS_MORE_DETAILS=1 for more details\n"
     ]
    }
   ],
   "source": [
    "import subprocess\n",
    "import os\n",
    "from pathlib import Path\n",
    "from datasets import load_dataset, Audio, Dataset\n",
    "from train.train import AudioDataset, preprocess_audio\n",
    "from audiocraft.models import MusicGen\n",
    "from scipy.io import wavfile\n",
    "import torchaudio\n",
    "import torch\n",
    "import random"
   ]
  },
  {
   "cell_type": "code",
   "execution_count": null,
   "metadata": {},
   "outputs": [
    {
     "name": "stdout",
     "output_type": "stream",
     "text": [
      "Path:  music_data/-ZHpNr_KRXU.wav \t Cap:  Someone is playing a percussive instrument that reminds a little bit of a tabla while someone else is playing a fast melody on an accordion. A male voice is singing at a higher pitch. This song may be playing live.\n",
      "Path:  music_data/-_6RxZyi30Q.wav \t Cap:  This is an amateur recording of a dance performance over a latin dance music piece in the style of zumba. There is a female dance instructor shouting directions to the dancers. There is a male vocalist singing melodically in the background piece. A strong bass and a loud electronic drum beat can be heard very distinctly. The atmosphere is energetic. The quality of the recording is quite poor.\n",
      "Path:  music_data/-_OzT7Xyvok.wav \t Cap:  Amateur recording of two nylon string guitars playing in flamenco style. The playing is technically challenging yet sloppy.\n",
      "Path:  music_data/00M9FhCet6s.wav \t Cap:  This children's song features a male voice singing the main melody. There are other voices singing backing vocals. This is accompanied by percussion playing a simple beat. A guitar strums the chords accenting the strums in between lines. The bass plays the root notes of the chords with a reggae feel. The keyboards play chords in the background. This song can be played at a children's party.\n",
      "Path:  music_data/01PzcPKT3_E.wav \t Cap:  The Jazz song features a saxophone solo melody played over shimmering shakers, tinny metallic percussions and mellow sustained brass melody. It sounds passionate, emotional and soulful.\n",
      "Path:  music_data/01hjVJN9xCg.wav \t Cap:  A low fidelity recording of a gospel choir with group vocals, a female singer, a male rapper, piano, a busy kick pattern, finger snaps and a slow tempo. The mood is hopeful and spiritual.\n",
      "Path:  music_data/0298WjE3_tk.wav \t Cap:  A female singer sings and chants with Emily. The tempo is fast with a quick drumming rhythm, percussive bass line, strong drumming rhythm and keyboard accompaniment. The song is exciting  and energetic. The song is an anime show soundtrack.\n",
      "Path:  music_data/02Qntw26enM.wav \t Cap:  This audio contains a theremin playing a melody in the higher register along to an acoustic piano recording in the background. This song may be practicing theremin playing along with a backing track.\n",
      "Path:  music_data/03z0rpIkm5g.wav \t Cap:  The low quality recording features a reggae/dub song that consists of a flat male vocal singing over punchy 808 bass, punchy snare, shimmering hi hats and groovy piano chords. It sounds energetic, groovy and the recording is noisy and in mono - due to the fact that the sound is coming from the right channel only.\n",
      "Path:  music_data/04NjXsLyCl4.wav \t Cap:  A loud cymbal sound is opening the space for a digital drum playing a simple groove when an e-guitar-like sound comes in and plays a melody on top. This is an amateur recording. This song may be playing in a sensual movie scene.\n",
      "Path:  music_data/05JAmKFVy44.wav \t Cap:  The low quality recording features a kids song played through some kind of toy, and it consists of low male vocal singing over some key chords. It sounds distorted and crushed. The recording is noisy and in mono, as it was probably recorded with a poor quality microphone.\n",
      "Path:  music_data/0Q1JLNfm8oU.wav \t Cap:  This song contains two pianos panned to both sides of the speakers playing melodies in the mid to upper range. A female voice, maybe a child sings a melody in a very high pitch. THis song may be playing as part of a movie-scene.\n",
      "Path:  music_data/0oIFGARD9xE.wav \t Cap:  A female vocalist sings this Gospel song. The tempo is medium with groovy bass lines, keyboard accompaniment, electric guitar and acoustic guitar rhythm,tambourine beats and choral harmony. The song is a spirited,emotional,fervent, earnest and devotional Christian Worship Song.\n",
      "Path:  music_data/1KN3GrwhY8c.wav \t Cap:  This disco song features a male voice singing the main melody. This is accompanied by programmed percussion playing a disco beat. The kick is played at every count of the bar. The synth changes chords after two bars to a higher pitch chord, then after one bar to a higher pitch chord, then after one more bar to a higher pitch chord and finally after one more bar to a suspended fourth chord. The instruments pause for 3 counts of the bar while the voice continues to sing. The bass plays the root notes of the chords. The mood of this song is romantic. This song can be played in a club.\n",
      "Path:  music_data/1KmsVHx7E2c.wav \t Cap:  This is a movie music piece. The music starts playing with a film reel effect. A strings section with cinematic characteristics are playing a dramatic tune while percussive elements resembling a timpani and a big cymbal are playing accentuated hits to put emphasis on this feeling. The atmosphere is epic. There is the aura of a story about to be told in this piece. It could be used in the soundtrack of a documentary, an action or a thriller movie. It could also be used in the soundtrack of a thriller video game.\n",
      "Path:  music_data/1LA64TXatWk.wav \t Cap:  This audio contains someone scratching to a backing drumtrack. This song may be playing at home demonstrating an app to someone.\n",
      "Path:  music_data/1MwaXCfUvX8.wav \t Cap:  An acoustic drum and a bass are repeating the same pattern along with two e-guitars playing along with the melody while a male voice sings slightly soulful and loud. In the background a crowd is sheering. The recording is of very poor audio quality. This song may be playing at a live concert.\n",
      "Path:  music_data/1O4LpU7HggY.wav \t Cap:  This clip features a male voice narrating about guitars. In the background, an acoustic guitar is strumming chords and picking notes used as fills. The mood of the song is happy and uptempo. There are no other instruments in this song. This song can be played in a romantic mood. This audio can be used in a guitar promotional video.\n",
      "Path:  music_data/1OIfQHKnAcw.wav \t Cap:  A male singer sings this emotional melody. The song is medium tempo with a piano accompaniment and a strong bass drum kick . The song is emotional and romantic. The song is a home music video .\n",
      "Path:  music_data/1PKxdTlquCA.wav \t Cap:  The Pop song features a flat female vocal, supported by wide harmonizing background vocals, singing over groovy acoustic rhythm guitar, offbeat shimmering open hats, claps, offbeat synth keys chords and a simple \"4 on the floor\" kick pattern that perfectly complements the groovy bass. Sounds energetic and uptempo, like something you would hear in clubs, or on a radio.\n",
      "Path:  music_data/4vsI0Kwn8jY.wav \t Cap:  The song is an instrumental. The song is a medium tempo with a mandolin player playing a cheerful melody with no other instrumentation. The song is positive and has a delightful dance rhythm. The song has an average audio quality.\n",
      "Path:  music_data/4yJZ4VX8XQI.wav \t Cap:  This song features synth pads playing in the background. Shimmering notes are played in this song. These notes are played three times. There are no voices in this song. There are no other instruments in this song. This instrumental song has a dreamy feel. This song can be played in a relaxation room or meditation center.\n",
      "Path:  music_data/4ymXDU-48EE.wav \t Cap:  A female singer leads other backup singers in a vocal harmony. The song is medium tempo with just mouth and body percussion. The song is groovy and played with a lot of ambient crowd noises. The song is a movie soundtrack.\n",
      "Path:  music_data/5ZpVhmhVYoI.wav \t Cap:  An acoustic drum is playing along with a tambourine playing together with the snare. An e-bass is playing along with the kick of the drums. E-guitars are strumming chords as a duo while a male voice sings in a higher register. In the background you can hear male voices providing harmonies. This song may be playing live in a concert.\n",
      "Path:  music_data/5_orEetudIA.wav \t Cap:  The low quality recording features a manically played piano melody over punchy kick and snare hits, followed by uptempo hi hats and shimmering open hats. It sounds aggressive, mani and thin, as it lacks low frequencies.\n",
      "Path:  music_data/5aCDam9_Ps4.wav \t Cap:  This is a traditional south asian dance song with a cheerful affect. We have a group of female singers singing in unison - a melody that matches with the one being played on the sitar.\n",
      "Path:  music_data/5a_Qxd4ECTo.wav \t Cap:  This music is an intense instrumental; the tempo is fast with atmospheric synthesiser,non-tertian harmonies , distal reverb and electronic sounds. The music is tense, sinister, suspenseful, futuristic, psychedelic and alien. This music is Futurepop.\n",
      "Path:  music_data/5at69yM1PoU.wav \t Cap:  The low quality recording features a sustained didgeridoo melody played over quiet, shimmering shakers and wooden percussion. It sounds intense and suspenseful.\n",
      "Path:  music_data/5blPLHS0Cko.wav \t Cap:  This ambient song features a main melody played on a flute. It is accompanied by percussion playing beats on the bass drum only. A tambourine is played on one count in every bar. There are the sounds of chirping birds in the background. This song also has layers of synth playing tribal-style instruments. The mood is meditative. This song can be used in meditation or in a yoga session.\n",
      "Path:  music_data/6cQjwXNY4sc.wav \t Cap:  The song is an instrumental. The song is medium tempo with a steady drumming rhythm, cymbal crashes, groovy bass line and various percussion hits. The song is youthful and energetic. The song has an average audio quality.\n",
      "Path:  music_data/6dFCMXNlmzQ.wav \t Cap:  This song is a lively instrumental. The tempo is  medium fast with an enthusiastic accordion harmony and acoustic guitar accompaniment. The music is spirited, melodious, warm, cheerful, happy, vivacious and colourful. This music is a Folk song instrumental.\n",
      "Path:  music_data/6elnFyuUnaU.wav \t Cap:  This audio contains someone playing a melody on a horn with reverb on it. This song may be playing as a solo in an orchestra performance.\n",
      "Path:  music_data/6evOjRxZlHI.wav \t Cap:  The Soul song features a passionate male vocal singing over a shimmering crash cymbal, sustained strings melody and mellow arpeggiated piano melody. At the very beginning there are some sizzling bells. It sounds romantic and heartfelt - like something you would want to sing to your partner.\n",
      "Path:  music_data/7DIPyJB4osY.wav \t Cap:  The low quality recording features a live performance of groovy wooden percussion. There is a wooden impact in the form of a wooden stick falling on the floor - which is a part of the groove. The recording is a bit noisy, due to a ventilation system, which also makes it very intimate.\n",
      "Path:  music_data/7EvLwfwRrqA.wav \t Cap:  This classical song features an orchestra playing a complex song. The string section plays the main melody. The horn section plays the bass harmony. The brass section plays the backing parts. The bass is played on a cello. At the beginning there is no percussion. Toward the end, the timpani is played as part of the percussion. The melody is complex. The mood of this song is epic and victorious. This song can be played in a successful bank robbery scene.\n",
      "Path:  music_data/7FHzw4HV75Y.wav \t Cap:  The Regional Mexican song features a soft piano melody, rhythm acoustic guitar, smooth bass, addictive brass melody and passionate male vocal singing on top of it. It sounds soft, mellow, passionate and emotional.\n",
      "Path:  music_data/7FkuqqdWRhw.wav \t Cap:  This is a pop R & B song with an electronic influence. We hear layers of synths driving the melodic component of the instrumental. The first synth has a repeated rapid motif that has the same beeping tone as a video game. The second synth is fuzzy and sustained.\n",
      "Path:  music_data/7Ht_Vu1D8nc.wav \t Cap:  This music is a Bagpiper Instrumental. The tempo is slow with a droning , chanting melody. The melody of the music has middle eastern influences. The droning sound is incessant and hypnotic. It is charming ,sharp, and captivating.\n",
      "Path:  music_data/7ITwarmdyfI.wav \t Cap:  This music is an instrumental with a lot of vocalisation and animated sounds. There are sounds of swishing, water bubbling, guitar string plonking, acoustic guitar riff, camera clicking pictures, kids screaming in glee, cheering and clapping. This music seems to be an introduction to a Show.\n",
      "Path:  music_data/Akg1n9IWSrw.wav \t Cap:  This audio contains a big wind sound before an acoustic drum starts playing a pattern on the toms with an opening and closing hihat. Then a male voice starts speaking at a higher pitch. Other male voices seem to respond to him. This song may be playing in the background for a movie skit.\n",
      "Path:  music_data/Aky0DF507fw.wav \t Cap:  This is a didgeridoo jam piece. The didgeridoo is playing tunes at a pitch varying from low to medium. There is a tribal sound to this recording. It could be used in the soundtrack of a movie/TV series with a jungle/primitive setting. It could also be sampled to be used in beat-making.\n",
      "Path:  music_data/AlVr7-ntuqw.wav \t Cap:  This jazz song is an instrumental song featuring a trombone playing the main melody. The trombone is accompanied by a piano playing chords using jazz rhythms. The tone changes at the end to an uplifting mood. There is no percussion in this song. This song can be used in a highway driving scene in a movie.\n",
      "Path:  music_data/BBmXMoI9Qus.wav \t Cap:  The Ambient music features soft metallic percussive elements and wide synth pad chords. It sounds calming, relaxing, mellow and soft - like something you would listen to while meditating.\n",
      "Path:  music_data/BC7dI3lQ2Cg.wav \t Cap:  This Mexican song features a male voice singing a repetitive melody. This is accompanied by percussion playing a simple beat. Shakers are played in the background. The bass plays a repetitive bassline. A piano plays one chord on the 'and' part of alternate counts in each bar. The song has a monotonous feel. This song is at a moderate tempo. This song can be played at a party.\n",
      "Path:  music_data/BEEknOFrVdU.wav \t Cap:  This is a Japanese pop-punk music piece. There is a teen female vocalist singing merrily and melodically in the English language. There is a distorted electric guitar playing the main tune with a bass guitar. The rhythmic background consists of a fast-paced punk beat being played on the acoustic drums. The atmosphere is uplifting. This piece could be used in the soundtrack of a teenage/young adult feelgood movie/TV show. It could also take place in the soundtrack of an animation movie or an anime.\n",
      "Path:  music_data/BEZdszHKGTQ.wav \t Cap:  This is a tutorial of a song that could be described as blues-rock. The performer plays the harmonica while strumming chords on an acoustic guitar. The feel of the instrumental is reflective, mellow and bluesy.\n",
      "Path:  music_data/BEhIGoq9tow.wav \t Cap:  The low quality recording features a mellow synth pad, mellow snare hits, soft kick hits, reverberant tinny bells, groovy bass and there is a flat male vocal singing over it. It sounds calming and relaxing.\n",
      "Path:  music_data/BEwNrjvNiYs.wav \t Cap:  The Metal song features wide harmonizing hums in the background and repetitive harmonized mixed vocals singing over them. It sounds quiet and low quality as the mix is not very clean.\n",
      "Path:  music_data/BGD7J6MP2C8.wav \t Cap:  This is an excerpt from an advertisement that is all full of sound effects. There is a burning beam coming from the sky and blowing up the earth. Sounds of explosions can be heard as a car and multiple people jump to the sky and the people start grunting as they see their surroundings burning. The sounds from this track can be sampled to be used in beat-making and in soundboards.\n",
      "Path:  music_data/C0AQyOVGvFM.wav \t Cap:  A male vocalist sings this mellow song.he tempo is medium with jazz style piano accompaniment, synthesiser articulation, slick drumming, funky bass line, cajun beat and an interactive vocal harmony. The music is mellow, soothing, ambient, soulful, passionate, emotional and persuasive. This song is a contemporary R&B/Soul.\n",
      "Path:  music_data/C0eCERYt4bA.wav \t Cap:  This is a live performance by an African music group in a gospel style. The drum pattern is intricate and there are other percussive elements like an occasional bongo and a wooden percussion instrument. The melodic elements are the vintage sounding electric piano  as well as the vibrant and fun brass melody played on the trumpets.\n",
      "Path:  music_data/C0sSgrr5xrQ.wav \t Cap:  A male singer sings this cool retro melody with duck quacking sounds. The song is medium tempo with a steady drumming rhythm with various funny percussion hits, accordion accompaniment and a groovy bass line. The song is inspiring and nostalgic. The song has an average audio quality.\n",
      "Path:  music_data/C1M5xqDQW58.wav \t Cap:  This is a rock music piece. There is a medium-to-high pitched electric guitar solo at the forefront. In the melodic background, a keyboard and a bass guitar repeating the same pattern can be heard. The acoustic drums are playing a loud and slightly fast-paced rock drum beat. There is a rebellious atmosphere to this piece. It can be used in the soundtrack of a teenage drama or a crime shootout video game.\n",
      "Path:  music_data/CRIFRYhiKUA.wav \t Cap:  Synthesizers are playing soft meditative pad sounds along with strong percussive drum hits, hi-hats and other sound effects that are highly reverbed . In the background you can hear birds singing; glass shattering; water tripping and other sounds that do not belong to the musical composition. This song may be playing for an advertisement.\n",
      "Path:  music_data/CRUd8kY3L70.wav \t Cap:  This music is an energetic instrumental. The tempo is fast with a vivacious harmonica lead, lively guitar rhythm, enthusiastic cello and punchy drumming. The song starts with an enthusiastic vocal riff. The music is an upbeat, catchy, buoyant, peppy, youthful, energetic and lively Harmonica instrumental.\n",
      "Path:  music_data/CRxIJ7YbcZA.wav \t Cap:  An acoustic drum is playing a simple groove with a strong kick. The e-bass is playing on every hit of the kick together with an e-guitar  strumming a chord. A female voice is singing a slow paced melody. In the background you can hear some maschine sounds and piping sounds. This song may be playing in a James Bond movie-scene.\n",
      "Path:  music_data/CVLqZyUwqv8.wav \t Cap:  The low quality recording features a traditional song that consists of widely spread plucked strings melody, calming pad chord progression playing in the background and reverberant female vocal singing melodies on top of it. It sounds relaxing and calming.\n",
      "Path:  music_data/CVgLrsBPt4o.wav \t Cap:  This song features a didgeridoo being played. Only one note is played. A male voice narrates a line before playing the instrument. There are no other instruments in this song. There is no melody in the music.\n",
      "Path:  music_data/Cwbtn_h6TP8.wav \t Cap:  A female singer sings this screaming metal melody. The song is medium tempo with a steady metal drumming rhythm, steady bass line and a distorted guitar playing rhythm. The song is rebellious and passionate. The audio quality is very poor.\n",
      "Path:  music_data/GQbUpJFArKI.wav \t Cap:  This is a rock and roll music piece. There is a male vocal singer singing as the lead while other back vocals sing rhythmic back vocals at a higher pitch than the lead. An electric guitar is playing a simple and repeated tune while there is a bass guitar in the background. The acoustic drums are playing a basic 4/4 rock beat with claps simultaneous with the snare hits. There is an easygoing atmosphere in this piece. It could be playing in the background of a rock bar. This piece could also work well in sports venues.\n",
      "Path:  music_data/GQbytKkt0tg.wav \t Cap:  The Alternative/Indie song features a passionate female vocalist singing over an arpeggiated electric guitar melody. It sounds passionate, emotional, heartfelt and sad.\n",
      "Path:  music_data/H18aK9HhNSM.wav \t Cap:  The low quality recording features a live performance of a country song played by ukulele orchestra, smooth double bass and sung by fruity male vocals. It is uptempo and it sounds energetic, even without drums, and passionate.\n",
      "Path:  music_data/H4rdJlSSt5Y.wav \t Cap:  The low quality recording features a covered song with arpeggiated banjo melody and flat female vocal that is occasionally out of tune. The recording is noisy and in mono, as if it was recorded with a phone, but it is also emotional, regardless of the voice crack.\n",
      "Path:  music_data/H4tyvJJzSDk.wav \t Cap:  Professionally recorded music featuring an intimate female vocal, delicate piano, and orchestral string accompaniment. The tempo is slow, the production is high fidelity and the mood is an introspective one. Would be perfect in an animated kids movie.\n",
      "Path:  music_data/H6Y_7Ax34-g.wav \t Cap:  This is a gear review jam. There is an electric guitar playing simple tunes. An amp plug is connected to the electric guitar. The atmosphere is easygoing. Sounds from this recording can be sampled to be used in advertisement jingles.\n",
      "Path:  music_data/H6qzijVEqZQ.wav \t Cap:  This is a pop funk piece used as a jingle for an ad. There is a male vocalist singing melodically while the electric guitar is playing a catchy tune with the bass guitar playing a groovy bass line. A normal tempo acoustic drum beat provides the rhythmic background. There are a couple of sound effects in the end. The piece has an easygoing atmosphere. It is the perfect match for a jingle. It could also be used in DJ sets or remixes.\n",
      "Path:  music_data/H6rZwBc6aNM.wav \t Cap:  The low quality recording features an electro song that consists of a reverberant \"4 on the floor\" kick pattern, followed by suspenseful synth stabs. At the very end of the loop there is a short riser, after which comes the snippet of a filtered synth bass. It sounds thin, as it was poorly mixed.\n",
      "Path:  music_data/Hdko95EitpI.wav \t Cap:  This is an orchestral piece from a video game soundtrack. The brass and the strings sections are playing an ominous sounding tune. There is a timpani being played with a crescendo pattern. The atmosphere is grim. This piece could be added to the soundtrack of thrilling movies and video games.\n",
      "Path:  music_data/He63KV_9Pwg.wav \t Cap:  The low quality recording features harmonizing vocals singing over punchy kick and snare hits, shimmering hi hats, synth pads, simple bass and mellow piano chords. There are crowd cheering noises in the background as this is a live performance. It sounds passionate, emotional, exciting and the recording is noisy, in mono and slightly distorted.\n",
      "Path:  music_data/I6eU2qRjJ7Y.wav \t Cap:  This music is instrumental. The tempo is medium with a dramatic, intense and suspenseful synthesiser arrangement, cymbal riff and conch shell sound. The music is a background score for a Bengali movie / TV series with a male voice giving instructions, a Hindu priest chanting Om with women joining in with the chant and vocalisations and the sound of the conch shell.\n",
      "Path:  music_data/IAeYandwJqc.wav \t Cap:  The low quality recording features a harmonica solo melody played over funky acoustic rhythm guitar. It sounds passionate and easygoing, even though the recording is a bit noisy and in mono.\n",
      "Path:  music_data/IC_Wpalzzm8.wav \t Cap:  Someone is playing a steady groove on the drums along with a simple bassline playing the footnote while a e-piano is playing minor chords panned to the right side of the speakers. Another distorted e-piano sound is playing a countermelody in a lower register panned more to the left side. A male voice is singing in the midrange. This song may be playing late night at a bar having a drink by yourself.\n",
      "Path:  music_data/IbaQjxGDT-o.wav \t Cap:  Electronic dance music features a repeating melody played by an electronic sound. The beat of the music is being driven by a kick drum played on every beat, a hi-hat played four times every beat and some sampled claps played on beats two and four. In the background one can hear an altered female voice singing a short melody. Another electronic/synth sound can be heard in the background having sparse interventions. The music is meant to be danced to.\n",
      "Path:  music_data/IcPbxJRbe5g.wav \t Cap:  This classical song features the main melody played on a harpsichord. The mood of this song is happy. This song does not have any percussion or any other instruments. There are no voices in this song. This song can be played for aristocracy.\n",
      "Path:  music_data/Ie5FO_BetOE.wav \t Cap:  This song contains a bass-melody repeating itself like an arpeggio. On top of that you can hear a digital string sound in the mid range playing a simple melody along with short female choir sequences that also sound digital. In the background you can hear explosions that do not belong to the song itself. This is an amateur recording and of poor audio-quality. This song may be playing in an arcade/action game.\n",
      "Path:  music_data/IePfzUzlDng.wav \t Cap:  This is a hard rock music piece. There is a male vocalist singing melodically in the lead. The main tune is being played by the overdriven electric guitar with the bass guitar playing in the background. The rhythm is being played by the acoustic drums. The atmosphere is energetic. There is a vintage sound. This piece can be played in the background at a rock bar.\n",
      "Path:  music_data/MVq9PYtypy0.wav \t Cap:  The hip-hop music features a male voice singing repetitive short bits of melody. The music excerpt contains a strong beat rhythm which drives the pulsation of the music. A synth sound is playing a repeating melody throughout the passage. The music sounds as if it was recorded by a phone from a playing speaker.\n",
      "Path:  music_data/MWS-Uxf1MRw.wav \t Cap:  This is a classical music piece. There is a piano playing an arpeggio in the background while a violin gently plays the main tune. The atmosphere of the piece is sentimental. This piece could be used in the background of tutorial videos. It could also be playing in the background at a coffee shop.\n",
      "Path:  music_data/MX0wS7MX3Zo.wav \t Cap:  This is a contemporary classic music piece being performed on a theremin. The player gives the theremin and electronic sounding character. The atmosphere is weird and eccentric. This piece could go well in the soundtrack of an absurdist/surrealist art movie.\n",
      "Path:  music_data/MXdVnDVjSL8.wav \t Cap:  This dubstep song features a turntable being played. It starts off with a high frequency pitch that is being brought down to a lower pitch till it fades away. A male voice raps a line and the instruments pause momentarily. This is followed by scratching of a vinyl in a pattern. This is accompanied by programmed percussion playing a dubstep beat. The sounds played are all synthesized by the DJ console. This song can be played in a club.\n",
      "Path:  music_data/NDJEKij2qOg.wav \t Cap:  This is a German Romantic era music piece. It is being performed live, however the quality of the recording is poor with frequently occurring peak noise. The french horn is playing the main melody while the background consists of a steady grand piano tune. The piece has a heart-touching feel to it.\n",
      "Path:  music_data/NHA1l_Czm38.wav \t Cap:  This middle-eastern song features a male voice singing the main melody. An oud plays the same melody as the voice. This is accompanied by middle-eastern percussion instruments played with the hands. A tambourine is played to accent the percussion beats. After the voice, the main melody is played on a flute. This is accompanied by a qanun. This song can be played for a belly dance programme.\n",
      "Path:  music_data/NJGo2fmUAII.wav \t Cap:  This music is instrumental. The tempo is fast with vigorous electric guitar feedback, hard hitting drums, amplified keyboard harmony and bass guitar. The music is loud, aggressive, boisterous, vital, persistent and high-powered. This music is a Heavy Metal Instrumental.\n",
      "Path:  music_data/NJ_Ha89QjiI.wav \t Cap:  The low quality recording features shoe tapping sounds alongside loud bagpipe melody and drum rolls. It sounds like it was recorded outside and therefore it is reverberant, epic and powerful. The recording is in mono and a bit noisy.\n",
      "Path:  music_data/NKDBwJIwWoU.wav \t Cap:  This song features a distortion guitar playing a guitar solo. The solo is played at a high pitch. It is a slow tempo solo. The guitarist plays a lot of vibrato when the notes are allowed to ring for a while. The pattern follows three ascending notes followed by three strikes on a lower note. This is followed by one higher note, the lower note and a hammer on to a higher note. A synth plays backing chords. There are no other instruments in this song. The mood of this song is romantic.\n",
      "Path:  music_data/NLQts9t7d8k.wav \t Cap:  The low quality recording features a wide harmonizing background vocals singing alongside passionate female lead vocal, over punchy snare hits, shimmering bells melody, simple hi hats, soft kick hits, simple bass and acoustic guitar melody. It sounds passionate, mellow and soft.\n",
      "Path:  music_data/NsR60ehkHGA.wav \t Cap:  This is a Swiss rap music piece. There is a male vocal rapping in the German language. The melody consists of a repeating theme played by a synth sound. A low-to-medium range string sample can be heard every now and then. The rhythmic background consists of an electronic drum beat which contains very faint clicking sounds added for texture. It is an urban sounding piece. This piece would fit perfectly in the soundtrack of a crime movie that takes place in the ghettos of a German-speaking city.\n",
      "Path:  music_data/NsYVaRI6rXg.wav \t Cap:  The song is an upbeat pop song with a slight hip hop influence. It's a live performance and features a breathy, seductive female vocalist. The backup singers almost chant or laugh in a staccato way that creates a vocal riff. There are string instruments in the background. This is a live performance.\n",
      "Path:  music_data/OII3VJoE0WA.wav \t Cap:  An acoustic drum is playing a funky groove with a crash hit while an e-bass with an effect on it is playing a melody along with an e-piano playing the same. Both are playing in the mid -range. This song may be playing practice for a concert with your band.\n",
      "Path:  music_data/OJuVsBojdvo.wav \t Cap:  This is an acapella version of a Christmas gospel music piece. There are children singing using the harmony singing technique. The piece has a heart-touching feel to it. This piece could be used in the soundtrack of a Christmas movie.\n",
      "Path:  music_data/OKZF0oG1E14.wav \t Cap:  This is a musical piece. There is a story-telling mood in this piece. The female vocalist is singing about her troubles in a complaining manner. There are many instruments in the melodic background such as piano, strings, flute and upright bass. The atmosphere of the piece is easygoing and comedic.\n",
      "Path:  music_data/OKquGBKOgME.wav \t Cap:  The Funk song features a flat male vocal singing over widely spread, funky electric guitar chords, groovy bass guitar and energetic drums. It gives off happy and fun vibes, as it is probably very good for dancing with your friends.\n",
      "Path:  music_data/Orge4_UlvNI.wav \t Cap:  The low quality recording features a live performance of a traditional song that consists of flat male vocal singing over wooden percussive elements, sustained strings melody and woodwinds melody. The recording is very noisy and buzzy.\n",
      "Path:  music_data/OseeYF_ud7g.wav \t Cap:  Someone is playing a fast paced melody on a sitar accompanied by someone playing a rhythm on tablas. This song may be playing live during a concert.\n",
      "Path:  music_data/Ou2rEaq28PM.wav \t Cap:  This is a reggae/dub music piece. There is a fat sounding bass guitar playing a groovy bass line. An electric guitar with heavy delay and reverb effects is playing a vague tune. There is a reggae acoustic drum beat in the rhythmic background. The atmosphere is trippy. This piece could be used in the soundtrack of a movie during scenes where a character would be under the influence of substances.\n",
      "Path:  music_data/Ou7vteWmqfw.wav \t Cap:  This blues song features a male voice singing the main melody. This is accompanied by the percussion playing a simple beat. The percussion plays the tambourine as well. The bass plays the same licks played on the guitar. The guitar plays notes that are octaves apart. Toward the end of the song, an overdrive guitar plays a hammer on note. The mood of this song is comforting. This song can be played in a bar.\n",
      "Path:  music_data/OvX68hqDjeA.wav \t Cap:  The low quality recording features a hip hop song, that consists of flat male vocal rapping over widely spread shimmering bells, punchy kicks and claps, playing in the background. Right before the beat drops there is a short flat female vocal. There are some people talking to each other, while one of them is yelling. It sounds noisy and haunting and energetic thanks to the song.\n",
      "Path:  music_data/OvjmfGU4y_M.wav \t Cap:  This is the compilation of live performances from a pop music boy band. There are teen male vocalists singing melodically. The melody is being played by an acoustic guitar and a bass guitar while an acoustic drum beat is playing in the rhythmic background. There are sounds of a crowd singing and cheering. The recording quality is poor.\n",
      "Path:  music_data/PJRG2bwphUc.wav \t Cap:  The low quality recording features a female vocal singing with left-panned echoing effect, which creates this unbalanced stereo image. In the background, there is a harmonizing male vocal, followed by a rumbly sound effect located in the right channel of the stereo image. Sounds passionate and emotional.\n",
      "Path:  music_data/THfTLXBLpJE.wav \t Cap:  This is a low quality audio featuring a male voice singing the main melody. Another voice sings in harmony with the main voice. /the melody is simple and repetitive. This is accompanied by percussion playing a simple beat. The bass plays the root notes of the chords. Trumpet play fills in between lines. This is a happy song. This song has a ska feel. This song can be played at a retro style dance party.\n",
      "Path:  music_data/THhptTKMr9U.wav \t Cap:  This song contains someone playing ukulele along with a xylophone sound playing the melody along. A female voice is singing in a higher key sounding soulful. You can hear a rimshot sound. That sound is maybe coming from the ukulele. This song may be playing live entertaining your friends and family.\n",
      "Path:  music_data/TIASpLtI8ks.wav \t Cap:  This song features the sound of two church bells playing together. One bell plays at twice the tempo of the other bell producing a set rhythm. There are no other instruments in this song. There are no voices in this song.\n",
      "Path:  music_data/TIAj-fi_R7c.wav \t Cap:  The low quality recording features a jazz song that consists of a passionate trumpet melody in the left channel of the stereo image and mellow piano chords in the right channel, followed by smooth double bass and shimmering hi hats. It sounds soft, mellow, passionate and relaxing. The recording is a bit noisy.\n",
      "Path:  music_data/TIL8jEw8pSc.wav \t Cap:  The song is an instrumental. The song is medium tempo with a cool groove being played on a keyboard. The ambient sounds are that of a gardening hardware tool being conked into starting with wind noise and gravel crunching tones. The song is being played as background music for the home video. The audio quality is harsh and not pleasant to hear.\n",
      "Path:  music_data/TJyzBaMwXFY.wav \t Cap:  Heavy, dark music featuring a gruff male vocalist rapping in a growl with group vocals. There are distorted guitars and bass while drums play a beat on the low toms, backbeat on the snare and four on the floor kick pattern. The genre is rap metal.\n",
      "Path:  music_data/TworrkXAPuI.wav \t Cap:  Female singers sing this vocal harmony with backup singers. The song is medium tempo with a groovy bass line, violin countermelody, and  keyboard harmony. The song is entertaining and groovy. The song has a poor audio quality.\n",
      "Path:  music_data/TyMZJqYmrwE.wav \t Cap:  A female singer sings this song. This section is probably a song fade as only the last bit of the word a can be heard with a mellow ukelele riff. This is followed with some sounds of something hitting a hard surface and then silence.\n",
      "Path:  music_data/TzPuAqjoL80.wav \t Cap:  This song contains digital drums playing a four on the floor groove with a kick on every beat. A low synth arpeggio is serving as bassline rather than pitching up one octave while synth pluck instruments are playing a fast and repeating melody. A male voice is singing a melody in a higher key. The voice is panned to the right side of the speakers and is not the loudest element in the mix. You can hear a high pitch string drone. This song may be playing at a private houseparty.\n",
      "Path:  music_data/U-L9YCIdLbg.wav \t Cap:  This music is instrumental. The tempo is medium with rhythmic drumming accompaniment. The melody is simple and gets interesting as a layer of drums gets added. It is spirited, catchy and engaging.\n",
      "Path:  music_data/U-UF93NA3ko.wav \t Cap:  The low quality recording features a rock song that consists passionate male vocal, alongside, harmonizing background vocals, singing over shimmering wide cymbals, bouncy snare hits, soft kick hits, electric rhythm guitar melody in the left channel, groovy bass guitar, acoustic rhythm guitar in the right channel of the stereo image and some wide toms roll. It sounds addictive and energetic.\n",
      "Path:  music_data/U0sjbOT6hY4.wav \t Cap:  The low quality recording features a didgeridoo melody played over wooden percussion and shimmering shaker. There are some crowd chattering noises in the background. It is reverberant, due to the fact that it was performed in a medium size room, uptempo and the recording is noisy.\n",
      "Path:  music_data/U0xhbrULfNY.wav \t Cap:  This is a lullaby in the style of Chinese traditional music. It is an instrumental piece. The qin is playing the main tune while the erhu is holding notes in the background. The occasional higher end strum of the guzheng can be heard. The atmosphere is calming and relaxing. This piece would fit perfectly in the background of a meditation video. It could also be included in the playlists that are meant to induce sleep in babies.\n",
      "Path:  music_data/U3TpCc2zHrI.wav \t Cap:  This is an industrial metal/alternative metal music piece. There is a male vocal singing in a harsh manner using the guttural technique. The melody is being played by the keyboard and the distorted electric guitar while the bass guitar is playing in the background. The acoustic drums are playing a loud and fast-paced metal beat with heavy use of twin pedals on the kick drum. The atmosphere is violent. This piece could be used in the soundtrack of a gruesome horror video game.\n",
      "Path:  music_data/VCrnnx9jTqs.wav \t Cap:  In this clip, we hear some random drum sequences on the tom drums and snare drum of a drumkit. Towards the end, there is a slightly high pitched sound in the background that can be subtly heard.\n",
      "Path:  music_data/VCusyLPrFCo.wav \t Cap:  An acoustic drum is played along with a bassline, an acoustic guitar and piano all playing the same rhythm. Strings are playing a melody in the mid range along with the female singer that gets accompanied by backing vocals singing harmonies along. This song sounds romantic and cheerful. This song may be playing at the beginning scene of a rom-com movie.\n",
      "Path:  music_data/VDYqYuPzW8E.wav \t Cap:  The low quality recording features an electro song that consists of a punchy \"4 on the floor\" kick pattern, shimmering hi hats, mellow claps, repetitive synth bass, short snare roll, subtle synth bells melody and loud synth lead melody. Even though it is thin, it is still something you would hear as an energetic track in a club.\n",
      "Path:  music_data/VG6-MlmCgzI.wav \t Cap:  The music fits the carnatic genre from Indian folk. A sitar plays a background melody with a certain brightness to it. A female vocalist sings a repetitive mellow melody. The aura of the song is very traditional and spiritual.\n",
      "Path:  music_data/VpIhbDN58mA.wav \t Cap:  The low quality recording features a huge percussive toms and huge low tom hits playing in a very large, reverberant space. It has a lot of low frequencies and it sounds energetic and epic, like a combat background music for a video game.\n",
      "Path:  music_data/VpikuLP_9qQ.wav \t Cap:  The low quality recording features a rock song sung by passionate male vocalists, after which there are camera shuttering and crowd yelling sound effects. The recording is in mono and overall it sounds distorted, crushed, noisy and vintage.\n",
      "Path:  music_data/Vr7wbGcvFts.wav \t Cap:  The music features a male voice singing and being accompanied by backing vocals. The drums play a laid-back rhythm and together with the bass guitar drive the pulse of the music. An acoustic guitar is accompanying the singer lightly. In the background one can hear birds chirping and children having fun. The overall atmosphere is uplifting.\n",
      "Path:  music_data/VrqBeY3kfKI.wav \t Cap:  This is a cinematic orchestral piece which feels victorious and announces an important moment. There is narration over the music. The instruments are violins and brass instruments. There is a rapid and light flute melody at the end.\n",
      "Path:  music_data/VsMy72BoIbU.wav \t Cap:  This is a heavy metal piece from a video game soundtrack. There is a female vocalist singing melodically in the French language. The melodic background consists of the electric guitar, the keyboard and the bass guitar. In the rhythmic background there is an upbeat electronic drum sound. There is a gothic feel to the piece. This piece could work well in the soundtrack of a historical horror movie that takes place in France.\n",
      "Path:  music_data/VswY2mI7Wbo.wav \t Cap:  The low quality recording features a live performance of a folk, traditional song where a high pitch female vocal is singing over addictive flute melody, layered with accordion melody, followed by wooden percussive elements and simmering triangle. It sounds uplifting and cultural.\n",
      "Path:  music_data/Vt3HzkNtOP4.wav \t Cap:  An acoustic drum is playing a light Rock&Roll groove with crash hits and emphasis on kick and snare along with a e-bass enhancing the fast paces mood and giving reasons to move the body along to the beat. Strings like a violin are adding some atmosphere with hits in the background and playing a crescendo to break into the next part of the song while male voices are singing together. This song may be playing when having or wanting a good mood.\n",
      "Path:  music_data/ZSHm7FdyxpQ.wav \t Cap:  This is a dubstep clip, with a high energy synth melody. The bass and percussion patterns are complex, with a kick drum that follows the cadence and timing of the fuzzy bass. The track is an electronic music track which can be heard in niche bars and clubs around the world.\n",
      "Path:  music_data/ZTVMsW1h3bI.wav \t Cap:  This song contains someone strumming a melody on a mandolin while more people are whistling along. Then a mandolin, an e-bass and an acoustic guitar are playing a short melody in a lower key before breaking into the next part along with flutes and percussions. This song may be played outside by musicians performing.\n",
      "Path:  music_data/ZTf9i8y5muo.wav \t Cap:  This is an industrial dance music piece. There is no singer in this piece. It has a strong and repetitive bass sound. The rhythmic background consists of a fast-paced electronic drum beat. The piece has an energetic atmosphere. It could be played at nightclubs or dance clubs.\n",
      "Path:  music_data/Ztlcnd14Kn4.wav \t Cap:  A male singer sings this rock melody with backup singers in vocal harmony. The song is fast tempo with a strong drumming rhythm , percussive bass line, amplified guitar playing lead. The song is energetic and romantic. The song is a retro rock song with average audio quality.\n",
      "Path:  music_data/ZwLfj7tvpdc.wav \t Cap:  A female singer sings this passionate melody with backup singers in vocal harmony.  The song is medium tempo with a percussive bass line, groovy drumming rhythm, keyboard accompaniment and other percussive hits. The song is a retro pop love song.\n",
      "Path:  music_data/ZwfzBagtpV0.wav \t Cap:  This song is a Latin duet. The tempo is fast with an ensemble of Latin instruments like Spanish guitar accompaniment, bright drums, congas and bongos rhythm, trombone and trumpets playing an animated melody and a whistle like wind instrument. The song is vibrant, energetic,engaging, upbeat and youthful. This song is Latin pop.\n",
      "Path:  music_data/Zxyfhub6nV4.wav \t Cap:  This audio holds a church bell ringing loudly with a lot of sustain. The sound is so loud that the recorded audio clips and overdrives the speaker. The audio file is of very poor recording quality.\n",
      "Path:  music_data/Zy4uiiy0qgA.wav \t Cap:  This pop song features a male voice singing the main melody. This is accompanied by percussion playing a simple beat in common time. A choir sings vocables in the background. A piano plays fills in between lines using jazz sequences. A bass plays the root notes of the chords. Strings and flutes can be heard playing along with the voice on the second bar in an ascending run. This song has an upbeat mood. The theme of this song is about friendship. This song can be played in a drama movie about friends.\n",
      "Path:  music_data/Zy_YSROQmlE.wav \t Cap:  This is a Croatian pop music piece. There is a male vocalist singing melodically in the lead. The acoustic guitar is playing a simple tune with the bass guitar playing in the background. The rhythm is played by a basic electronic drum beat with an acoustic sound. There is a lively atmosphere to this piece. This piece could fit well in the soundtrack of a romantic comedy movie that takes place in Croatia.\n",
      "Path:  music_data/Zz1Bz1a7yPE.wav \t Cap:  The music features a group of female voices singing a melody in unison. The instrumental consists of only percussion drums, African percussion drums to be precise. A shaker can also be heard sounding on every beat. In the background one can hear water sounds. The overall atmosphere is cheerful and uplifting.\n",
      "Path:  music_data/_XrolyeJXDw.wav \t Cap:  The low quality recording features a classical song that consists of a wide strings melody, low brass and woodwinds melody. It sounds suspenseful and intense.\n",
      "Path:  music_data/aHZdDmYFZN0.wav \t Cap:  The low quality recording features a classical song that contains a wide string melody. It sounds suspenseful and intense.\n",
      "Path:  music_data/aIIEI33EUqI.wav \t Cap:  This song contains soft synth pads playing in the lower to higher register with little dreamy notes sprinkled on top. This song may be playing for a meditation session.\n",
      "Path:  music_data/aItOEVYnpHA.wav \t Cap:  The EDM song features an echoing synth lead melody, snare rolls, synth pad chords, energetic riser and some claps. In the second half of the loop, there is a filtered synth melody building up. It sounds energetic and exciting, as this is probably a build up section, after which comes a drop and like something you would hear in a club.\n",
      "Path:  music_data/aqhhfkXKJ1o.wav \t Cap:  This is a solo electric guitarist playing some blues. It's a twelve bar blues progression that's intricately finger picked. It has a turnaround.\n",
      "Path:  music_data/ar4YQ_DOcyk.wav \t Cap:  A female vocalist sings this cheerful song. The tempo is fast with a peppy keyboard harmony, simple, march like drumming, steady bass line, acoustic guitar and bells chiming. The song is a foreign language but from the sound and vibe of it, it seems like a fun, happy, joyful, cheerful, warm hearted and popular folk song.\n",
      "Path:  music_data/argBwTHDDVI.wav \t Cap:  This clip features an instruction by a male voice on how to use an effect on a synth. After the narration, three notes are played on a synth. The first one is loud, the second note is lower and softer. The third note is lower but louder in volume. There are no other instruments in this song.\n",
      "Path:  music_data/aryufzYGhbM.wav \t Cap:  This song is in very poor audio-quality and seems to lag. A big pulsating synthesizer pad is creating tension along with some more single holding note, higher register synth pad. A riser effect tells us that this part of the song is about to break into another part that will bring relief from the created tension. A synthesizer pluck is playing a catchy repeating melody. The male voice sings/raps in the higher register a male backing voice is shouting in the background. This song may be played on a dj mix in a club.\n",
      "Path:  music_data/as7MhTe961k.wav \t Cap:  This is a live performance of a movie music piece. The recording has a very poor quality. The saxophone is playing the main tune while the piano can be heard providing a melodic background. The atmosphere is romantic and it is probably a wedding setting.\n",
      "Path:  music_data/asT8yaJPP1s.wav \t Cap:  This audio clip is an instrumental. The tempo is low with a subtle violin harmony, keyboard arpeggio and synthesised organ. The music is lilting, grim,incessant, intense, sad, bleak, enigmatic and ambiguous. The music sounds like the background score for a movie.\n",
      "Path:  music_data/bTVl2GeNfqI.wav \t Cap:  A male singer sings this screaming metal vocal. The song is medium tempo with strong metal drumming, guitar rhythm, groovy bass line and mic feedback tone.The song  is energetic and an adrenaline rush. The song has poor audio quality.\n",
      "Path:  music_data/fD1xB9lDbPQ.wav \t Cap:  This song contains a male acapella group singing and beatboxing creating harmonies, bass and singers in the higher register. This song may be playing live for a talent show.\n",
      "Path:  music_data/fDMbNCdGXBc.wav \t Cap:  The low quality recording features a country song being played on an acoustic rhythm guitar and raw male vocal singing over it. It sounds passionate and emotional, even though the recording is noisy and in mono.\n",
      "Path:  music_data/fE7tbn6Fnw4.wav \t Cap:  The low quality recording features a classical song that consists of a harpsichord melody played over strings and brass melody. It sounds emotional and passionate.\n",
      "Path:  music_data/frqnZb8Ssjo.wav \t Cap:  This clip features a drum kit being played. Different parts of the drum kit are played. At the beginning, a female narrates the process in one line following which different parts of the kit are struck. This sound can be played in a drum test scenario.\n",
      "Path:  music_data/fsTVRca31nI.wav \t Cap:  The rock music features a nasal male voice. The voice follows a strummed electric guitar with a clean sound. The bass is backing the guitar strumms. The beat is made first with ticking sounds but then it's played by a drum kit.\n",
      "Path:  music_data/fsXQHyg5qDI.wav \t Cap:  This song features a male giving instructions on playing a guitar. A distortion guitar is playing the root note and the fifth. After the instruction, the root note and the fifth is played individually. This song features only the male instruction voice and no vocal melody. There are no other instruments in this song. There is no percussion in this song.\n",
      "Path:  music_data/fsXfBoNcLeM.wav \t Cap:  The Pop song features a flat female vocal rapping, alongside passionate background female vocal singing, over straight piano chords, simple synth bass, wide distorted synth and wide synth brass chords, followed by groovy hi hats, punchy kick and snare hits. It sounds uplifting and energetic.\n",
      "Path:  music_data/ftKCLRd9_no.wav \t Cap:  The low quality recording features a flat male talking singing over ukulele chord progression, after which the flat male vocal is talking. It sounds like a tutorial and the recording is noisy and in mono.\n",
      "Path:  music_data/ftaHv79hRoY.wav \t Cap:  The song is an instrumental tune. The song is medium tempo with a steady drumming rhythm, groovy bass line, trumpets playing, brass band section and keyboard harmony. The song is exciting and energetic. The song is a tv show tune and has fun jazz roots.\n",
      "Path:  music_data/fvTh5m9RHZw.wav \t Cap:  This is an instrument comedy music piece. There is a clarinet playing a goofy tune. Then, the clarinet stops and the strings section starts playing a dramatic melody. This piece could be sampled to be used as instrumentals in an advertisement jingle.\n",
      "Path:  music_data/gTX4SG70cEY.wav \t Cap:  A male vocalist sings this sad melody. The tempo is  slow with an acoustic guitar accompaniment and a droning keyboard harmony. The song is soft ,mellow, sad, emotional, sentimental, regretful , lonely and poignant. This song is an Alternative Rock/Indie.\n",
      "Path:  music_data/hBQFoDI3NMI.wav \t Cap:  This music is an Electric Guitar instrumental. The tempo is fast with a dissonant background score . There is the sound of people talking in the background. The music is superimposed on a track which doesn’t seem to be in sync. The lead however is powerful, loud, intense and emphatic. This is a Rock Instrumental.\n",
      "Path:  music_data/hBT0bbJl1dU.wav \t Cap:  The low quality recording features a groovy piano melody, mellow cello melody and brass melody. It sounds emotional and passionate, while the recording is noisy.\n",
      "Path:  music_data/hCELSy7hVKE.wav \t Cap:  The low quality recording features an arpeggiated theremin melody being played. The recording is noisy, in mono and it sounds weird and gives off some spacey vibes.\n",
      "Path:  music_data/hCIB1E60Nbw.wav \t Cap:  The Electro song features a punchy \"4 on the floor\" kick pattern, shimmering open hats, tinny wide minimal percussions, low groovy bass, simple electric guitar melody and reverberant snappy rimshots. It sounds dark, energetic, suspenseful and exciting.\n",
      "Path:  music_data/hDsA_ky9Hfw.wav \t Cap:  The song is an upbeat, soulful song which has a motif repeated on a woodwind instrument. The song would be suitable for some mellow dancing. The singer has a raspy voice.\n",
      "Path:  music_data/hlHb9HwNxk8.wav \t Cap:  The low quality recording features a live performance of an opera that consists of a passionate female vocal singing over strings melody, brass melody and mellow percussion. It sounds emotional and passionate.\n",
      "Path:  music_data/hlbjpc48Vrs.wav \t Cap:  The recording starts with a synth pad sound in the higher register and also with a tunes airy sounds slowly pitching down. Then a separate techno song starts playing with a monotone digital drum groove. The kick is overdriven and has some punch to it. The fast hihat sounds are panned to the left and right side of the speakers. This song may be playing in a night club.\n",
      "Path:  music_data/hlquKjPgxmY.wav \t Cap:  This is a Christian pop piece. There is a telephone sound effect in the opening. There is a female vocalist singing melodically as the lead. The melody is being played on the acoustic guitar and the keyboard. The rhythm is provided by an electronic drum beat. There is a modern feel to this piece. It could be used in the background of social media content related to Christianity.\n",
      "Path:  music_data/hm0SeoNSGkc.wav \t Cap:  The low quality recording features a live performance of an arpeggiated acoustic guitar melody and plucked harp melody. It sounds mellow, soft, easygoing and the recording is really noisy and in mono.\n",
      "Path:  music_data/hmkPWxTIwwU.wav \t Cap:  This music is an electronic instrumental. The tempo is fast with punchy drumming rhythm, keyboard harmony, vigorous guitar rhythm and electronically arranged sounds like a dissonant booming drum, water bubbling, hissing and  whistle like instrument playing harmony. The song is youthful, energetic, enthusiastic, vigorous, vivacious and youthful with a dance groove. This music is EDM.\n",
      "Path:  music_data/hnlVKC7rxdg.wav \t Cap:  This symphonic song features french horns playing in harmony. The notes played are descending and they finally fade away. There are no other instruments in this song. There are no voices in this song. This song can be played in a dream sequence in a movie.\n",
      "Path:  music_data/hoPnrbKOEl8.wav \t Cap:  The instrumental music features a sort of calm before the storm. In the low register one can barely hear a double bass playing a long note softly. Another stringed instrument plays a short melody that fades out. A bigger group of strings then play a short long-note melody. The music is playing softly, almost quiet. This could work well as music for a movie scene.\n",
      "Path:  music_data/maZ3b5w6xVI.wav \t Cap:  The low quality recording features a loud church bells playing. The recording is in mono and it is very noisy.\n",
      "Path:  music_data/macnXLRXbHU.wav \t Cap:  The low quality recording features a harmonica solo melody over soft double bass and arpeggiated acoustic guitar melody. It sounds emotional, passionate and heartfelt.\n",
      "Path:  music_data/maeSHVZX8xc.wav \t Cap:  The low quality recording features a gospel song that contains a harmonizing mixed vocals singing. The recording is a bit noisy and it sounds emotional and passionate.\n",
      "Path:  music_data/nIL_xrqjo1g.wav \t Cap:  This is a classical music performance. There is a gentle piano tune playing in the background while there is a theremin playing the main melody. The performance has a unique feel to it. The atmosphere is out of the ordinary but also heart-touching. This piece could be used in the soundtrack of an animation movie/TV series.\n",
      "Path:  music_data/nJ3tuDmcdTs.wav \t Cap:  This song contains someone playing an accordion melody and chords along with an acoustic guitar strumming the same chords. Someone is playing an acoustic instrument while a male voice is singing in a higher key. This song may be playing in the countryside.\n",
      "Path:  music_data/nJaezskegdc.wav \t Cap:  The low quality recording features passionate female harmonizing vocals, alongside wide staccato female vocals melodies singing over some claps. It sounds passionate and joyful.\n",
      "Path:  music_data/nL4zx0-mi14.wav \t Cap:  This song is a classical composition played on a harpsichord. This features the notes played on the higher register and the bass notes played on the same instrument. There are no other instruments in this song. This song has no voices. It is an instrumental song. This song can be played to honor royalty.\n",
      "Path:  music_data/nP05Sf4Fgac.wav \t Cap:  A blues rock power trio with electric bass and overdriven electric guitar playing a riff together and the drummer playing a backdoor shuffle. It is instrumental with a swung rhythm.\n",
      "Path:  music_data/nPlDt1R8Qfc.wav \t Cap:  This music is instrumental. The tempo is slow with a flute playing a melodic lead harmony and later joined by a rhythmic acoustic guitar. The song is dulcet, warm, peaceful; calming, meditative,pensive, contemplative, deliberate, mellifluous and euphonious. This music is an Indian Classical.\n",
      "Path:  music_data/nSBDyxxscks.wav \t Cap:  This recording contains gargling noises to which a lot of female voices sing along. In the background you can hear a full pop song that serves as background music. The recording is full of fast popping noises. This seems to be an amateur recording.\n",
      "Path:  music_data/nSLxQLYYoNE.wav \t Cap:  The low quality recording features a R&B song that consists of flat male vocals, alongside filtered background male vocals, singing over punchy kick and snare hits, shimmering cymbals, uptempo hi hats, distorted bass and repetitive synth lead melody. It sounds messy, as the frequencies are clashing with each other, but also energetic, emotional and addictive - like something you would quickly learn to sing along.\n",
      "Path:  music_data/nr9oLIsbDyQ.wav \t Cap:  This is a tutorial involving the french horn. We have an American male speaking, giving instruction related to the french horn instrument. At a point in the clip, the musician plays one note on the horn.\n",
      "Path:  music_data/nrcfdP6LrLo.wav \t Cap:  The low quality recording features a hip hop song that consists of flat male vocals talking over reverberant female vocal melody, punchy snare and kick hits, shimmering hi hats, groovy bass and mellow piano chord progression. It has a lot of reverb on it and it sounds easygoing, chill and groovy - like something you would listen to on a car ride.\n",
      "Path:  music_data/oTzTZqDOIt0.wav \t Cap:  A female vocalist sings this upbeat electronic pop song. The tempo is fast with enthusiastic synthesiser arrangements, groovy drumming. The music is electronically arranged and has a youthful, vivacious, enthusiastic, buoyant dance groove. This music is upbeat Electronic Dance music.\n",
      "Path:  music_data/oUp-acoLyvU.wav \t Cap:  This song contains an orchestra playing a melody in the mid to high range with a string section decreasing in volume.Oboes/flutes are playing another melody on top with a low timpani hit in the background. This song may be playing at the end of an emotional adventure movie.\n",
      "Path:  music_data/oVhhEku6ECA.wav \t Cap:  Someone is playing an acoustic drumset with an open hi-hat and fast aggressive fill-ins. An e-bass is playing a simple bassline along. In the background you can hear strings playing a melody while an e-guitar is playing an arpeggio melody on top. In the background you can hear people cheering and singer/singers at the end of a phrase. This song may be playing in a live concert.\n",
      "Path:  music_data/oXBGZoBYaLY.wav \t Cap:  This song is an instrumental. The tempo is medium with the melody of an oboe and percussion rhythm like the bongos and the sound of a waterfall and faint female vocals in the background.the sound quality of the song is inferior and the sounds are distorted and muffled This song is an instrumental pop.\n",
      "Path:  music_data/oYECB7KFJgU.wav \t Cap:  Male singers sing this vocal harmony. The song is medium tempo with steady drumming rhythm, cello playing the bass line, guitars strumming rhythm and various percussion hits. The song is chaotic and exciting. The song is an amateur band playing a retro pop song with audio quality.\n",
      "Path:  music_data/p8xxC2um9xQ.wav \t Cap:  The Disco song features a flat male vocal singing over a wide funky electric guitar melody, groovy bass, synth keys chords, funky synth lead melody, punchy kick, punchy snare layered with some claps and simple hi hats. It sounds passionate, funky and groovy.\n",
      "Path:  music_data/p9nbp0Oo1U0.wav \t Cap:  This song contains an acoustic drum playing a simple groove with heat panned to both sides of the speakers. An e-bass is playing along while someone is strumming chords on an acoustic guitar. Two male voices are singing together in harmony. A viola is joining, playing along with the singer's melody. This song may be playing while cooking at home.\n",
      "Path:  music_data/pDgWT99uaJ0.wav \t Cap:  This folk song features a quarter. The main melody starts off with the accordion playing an ascending run. This is accompanied by the bass playing the root and fifth of the chords. An acoustic guitar strums chords in waltz time. After the accordion part, the violin plays the main melody and the same instruments back the violin. This song can be played in a village fair.\n",
      "Path:  music_data/pELIBvAnbkY.wav \t Cap:  The low quality recording features a R&B song that consists of a passionate female vocal, alongside wide exhale sounds and wide repetitive female vocals, singing over claps, punchy kick, shimmering hi hats, synth lead melody and simple synth bass. It sounds energetic and exciting.\n",
      "Path:  music_data/pG6yeC3yUY4.wav \t Cap:  The song is instrumental. The tempo is medium with a piano playing solo accompaniment with no other instrumentation. Tap dancers tap to the piano accompaniment not perfectly in sync , with a lot of ambient room noises and people talking. The audio quality is very poor in this home video.\n",
      "Path:  music_data/pHC25Ia8Dxo.wav \t Cap:  A male rock singer sings this climatic solo with a long sustained note. The tempo is medium with strong rock drumming, guitar rhythm; guitar lead and a percussive bass line. The song is hard rock with a lot of spirit and excitement. The audio quality is bad with a lot of ambient crowd noises.\n",
      "Path:  music_data/tPVsTFGWU5Q.wav \t Cap:  The Dubstep song features a punchy kick and snare hits, groovy hi hats, aggressive synth bass and mellow bells melody played in the beginning. It sounds energetic and haunting.\n",
      "Path:  music_data/tQ1Nl4Dy2aI.wav \t Cap:  This is a Czech rap music piece. There is a male voice rapping in the Czech language. There is a medium-pitch synth playing the melody. The medium tempo electronic drum beat carries the rhythmic background. The atmosphere of the piece is loud and aggressive. This piece could be used in the soundtrack of a crime movie taking place in Central Europe.\n",
      "Path:  music_data/tRA-5inwlMI.wav \t Cap:  This is a gospel piece used as an accompaniment to a tambourine dance. There is a female vocalist singing. There is an electric guitar and a xylophone playing the melody. The tune is not very clear due to the quality of the recording. The atmosphere is religious. Samples could be lifted from this recording to be used in a beat.\n",
      "Path:  music_data/u0lm58cet1g.wav \t Cap:  This is a pop/disco music piece. There is a male vocalist singing melodically in the lead while the main tune is being played by the saxophone. In the rhythmic background, there is an electronic drum beat with percussive elements surrounding it. The atmosphere is energetic and danceable. This piece could be playing in the background at a dance club during a retro-themed night.\n",
      "Path:  music_data/u1a5eyk-9ig.wav \t Cap:  The low quality recording features a kids song sung by harmonizing kids vocals over shimmering bells, claps, synth keys melody, groovy bass and shimmering hi hats in the right channel of the stereo image. It sounds fun, happy, addictive, thanks to that cadence, and like something kids would listen to.\n",
      "Path:  music_data/u3n2OcpEC48.wav \t Cap:  The low quality recording features a suspenseful tone of didgeridoo. The recording is mono and noisy, as it was probably recorded with a phone.\n",
      "Path:  music_data/u3pYqyLM0f4.wav \t Cap:  The song is an instrumental. The song is medium fast tempo with a strong techno drum rhythm, groovy bass line, keyboard harmony and percussion hits. The song is exciting and groovy for dance. The audio quality is poor.\n",
      "Path:  music_data/u3yOMK8SuRI.wav \t Cap:  This song is a simple instrumental. The tempo slows with the sound of clapping followed by a soft and mellow  ukelele melody. This is a home video of a Ukelele instrumental.\n",
      "Path:  music_data/u68Ghaf_Phs.wav \t Cap:  This folk song features a variety of instruments. The main melody is played on a violin, flute and accordion. The double bass plays a running bass pattern. An acoustic guitar strums chords. A hammered dulcimer plays parts that give a percussive feel. There are no voices in this song. This is an instrumental song. This song can be played in a luxurious and lively brunch.\n",
      "Path:  music_data/u6tgeRXOxnU.wav \t Cap:  A male vocalist sings this energetic rap. The tempo is fast with electronic music and synthesiser arrangements with digital drum rhythm and boomy bass. The song is upbeat, energetic, buoyant, punchy and youthful with a bright dance groove. This song is an EDM/Synth pop.\n",
      "Path:  music_data/u8aB6EALonk.wav \t Cap:  The song is an instrumental. The song is in medium tempo with a harpist playing a beautiful  cascade of notes while the orchestra watches. The song is exciting and passionate. The audio quality is poor.\n",
      "Path:  music_data/u9n4R78UBtA.wav \t Cap:  This music is an electronic instrumental. The tempo is fast with atmospheric synthesiser, digital drum arrangements and an insistent, recurring female vocalisation. The music is upbeat, youthful, trance, trippy, hypnotic, psychedelic, incessant, and enthusiastic EDM/Synth Pop.\n",
      "Path:  music_data/un-OXLWhvDc.wav \t Cap:  This song contains someone playing blues on a clean e-guitar. Then a male voice starts singing calmly and with a mid ranged voice. This song may be playing in a road-movie.\n",
      "Path:  music_data/uoZ9Rs4E-6Y.wav \t Cap:  This song is played on a harpsichord. The harpsichord plays the bass and treble notes. This is a classical composition. There are no other instruments in this song. There are no voices in this song. This song can be used when a member of royalty arrives at a palace.\n",
      "Path:  music_data/vWM2qG-nU-Y.wav \t Cap:  This is a Christian gospel music. There is a male vocalist singing melodically. The melody is being played by the piano with a strings section accompaniment. The atmosphere is spiritual and sentimental. This piece could be playing in the background of Christian social media content.\n",
      "Path:  music_data/vWiq7n4yTAw.wav \t Cap:  This instrumental song is played on a didgeridoo. This is a continuous drone sound which is resonant and played in a low pitch. There is no percussion in this song. The instrument is played in a repetitive pattern producing low sounds with higher pitched vibrating sounds inter-spread in between notes. There are no voices in this song.\n",
      "Path:  music_data/vXtk2JEP0zM.wav \t Cap:  This clip features a rhythm played on a tambourine. It starts off with a galloping rhythm which is sped up. At the end, the tambourine is not struck and only the jingles are allowed to ring.  There are no other instruments in this song. There are no voices in this song. This song can be played in a folk gathering.\n",
      "Path:  music_data/vYP60jdTupc.wav \t Cap:  An e-bass and strings are playing a simple melody to elevate the atmosphere. In the background an acoustic piano is playing a melody along with the drums. Then a female voice starts singing while the crowd starts cheering. This song may be playing live during a tv-show.\n",
      "Path:  music_data/w62KGC7um_Y.wav \t Cap:  Cheery, upbeat Latin music featuring a lively male singer, busy percussion including hand percussion like bongos and congas as well as cowbell and more. String bass plays a syncopated tumbao rhythm while a brass section accompanies a trombone.\n",
      "Path:  music_data/w6MtzUCl4vM.wav \t Cap:  This song contains digital drums playing a hiphop kinda feel along with a bassline. The most energy comes from the male voice singing with autotune and a lot of backing voices cheering and singing along: Then a male voice starts rapping. The backing voices are spread across the both sides of the speakers. This song may be playing outside chilling with your friends.\n",
      "Path:  music_data/w6zHc6nRJ0o.wav \t Cap:  The Metal song features a repetitive, aggressive male vocal screaming over wide, aggressive electric guitar chords, distorted bass guitar, punchy snare and kick hits and energetic cymbals. There is a toms roll at the end of the loop. It sounds aggressive, energetic and manic - like something you would jump into a mosh pit at the concert.\n",
      "Path:  music_data/w8c7JFU6by4.wav \t Cap:  The Urban Latin song features a harmonizing male vocals singing over \"4 on the floor\" kick pattern, shimmering hi hats, syncopated snare hits layered with simple synth lead melody and buzzy synth bass. It sounds energetic and addictive, like something you would hear in clubs.\n",
      "Path:  music_data/w9CxACZ5Oi0.wav \t Cap:  This is a Western music piece performed live by an orchestra. There is a mandolin playing the main melody. Many strummed instruments such as acoustic guitar and ukulele are being played in the melodic background. These sounds evoke an adventurous feeling This piece could be used in the soundtrack of a Western movie/TV series. It could also suit well in the soundtrack of a wild west themed video game like Red Dead Redemption.\n",
      "Path:  music_data/w9EGDo9Yybc.wav \t Cap:  This is an excerpt from a TV series. There are female voices that can be heard. There is a walking sound. The birds are singing. There is a mellow flute tune being played. Various sounds can be sampled from this recording.\n",
      "Path:  music_data/wsdH6cv4YkA.wav \t Cap:  The Dance/Electronic song features a repetitive synth keys melody, synth guitar lick, distorted synth bass that perfectly complements the \"4 on the floor\" kick pattern, punchy snare hits layered with claps, simple \"2 step\" hi hat pattern, shimmering shakers, repetitive, pulsating synth pad chord progression and groovy synth keys chord progression. At the end of the first part of the loop, there is a short, reversed crash riser, where the drums subtly fade out, followed by energetic crash at the beginning of the second part of the loop, where the drums are brought back again. It sounds energetic and like something you would hear in clubs during the 00s.\n"
     ]
    }
   ],
   "source": [
    "import gradio as gr\n",
    "for index,row in dataset.iterrows():\n",
    "    cap = row['caption']\n",
    "    path = row['audio']['path']\n",
    "    print(\"Path: \",path,\"\\t Cap: \",cap)"
   ]
  },
  {
   "cell_type": "code",
   "execution_count": 5,
   "metadata": {},
   "outputs": [
    {
     "data": {
      "text/plain": [
       "'d:\\\\Documents\\\\Sound_and_voice_preprocess\\\\Music-Generator\\\\src\\\\MUSIC-GENERATOR'"
      ]
     },
     "execution_count": 5,
     "metadata": {},
     "output_type": "execute_result"
    }
   ],
   "source": [
    "import os \n",
    "os.getcwd()"
   ]
  },
  {
   "cell_type": "code",
   "execution_count": 4,
   "metadata": {},
   "outputs": [
    {
     "name": "stdout",
     "output_type": "stream",
     "text": [
      "d:\\Documents\\Sound_and_voice_preprocess\\Music-Generator\n"
     ]
    }
   ],
   "source": [
    "%cd .."
   ]
  },
  {
   "cell_type": "code",
   "execution_count": 2,
   "metadata": {},
   "outputs": [
    {
     "name": "stderr",
     "output_type": "stream",
     "text": [
      "WARNING[XFORMERS]: xFormers can't load C++/CUDA extensions. xFormers was built for:\n",
      "    PyTorch 2.1.0+cu121 with CUDA 1201 (you have 2.1.0+cpu)\n",
      "    Python  3.11.6 (you have 3.11.5)\n",
      "  Please reinstall xformers (see https://github.com/facebookresearch/xformers#installing-xformers)\n",
      "  Memory-efficient attention, SwiGLU, sparse and more won't be available.\n",
      "  Set XFORMERS_MORE_DETAILS=1 for more details\n",
      "d:\\anaconda3\\envs\\Music_Gen\\Lib\\site-packages\\tqdm\\auto.py:21: TqdmWarning: IProgress not found. Please update jupyter and ipywidgets. See https://ipywidgets.readthedocs.io/en/stable/user_install.html\n",
      "  from .autonotebook import tqdm as notebook_tqdm\n"
     ]
    }
   ],
   "source": [
    "from train import train"
   ]
  },
  {
   "cell_type": "code",
   "execution_count": 6,
   "metadata": {},
   "outputs": [],
   "source": [
    "dataset = train.AudioDataset()"
   ]
  },
  {
   "cell_type": "code",
   "execution_count": 7,
   "metadata": {},
   "outputs": [
    {
     "data": {
      "text/plain": [
       "('d:\\\\Documents\\\\Sound_and_voice_preprocess\\\\Music-Generator\\\\data\\\\music_data\\\\-ZHpNr_KRXU.wav',\n",
       " 'folkmusic amateur recording accordion percussion male voice singing higher register medium to uptempo')"
      ]
     },
     "execution_count": 7,
     "metadata": {},
     "output_type": "execute_result"
    }
   ],
   "source": [
    "dataset[0]"
   ]
  },
  {
   "cell_type": "code",
   "execution_count": 8,
   "metadata": {},
   "outputs": [],
   "source": [
    "from datasets import load_dataset, Audio, Dataset\n",
    "path_root = os.getcwd()\n",
    "# self.data_dir = os.path.abspath(os.path.join(path_root ,\"../..\",\"data/music_data\")) ##for colab\n",
    "data_dir = os.path.abspath(os.path.join(path_root ,\"data/music_data\")) #for vsc\n",
    "files = [f for f in os.listdir(data_dir ) if f.endswith(\".wav\")]\n",
    "files_name = [os.path.splitext(name)[0] for name in files]\n",
    "ds = load_dataset('HgThinker/Music_Gen', split='train').remove_columns(['start_s',\n",
    "                                                                        'end_s',\n",
    "                                                                        'audioset_positive_labels',\n",
    "                                                                        'is_balanced_subset',\n",
    "                                                                        'is_audioset_eval',\n",
    "                                                                        'download_status']).to_pandas()\n",
    "new_df = ds.loc[ds['ytid'].isin(files_name)] #take a subset of the whole dataset    "
   ]
  },
  {
   "cell_type": "code",
   "execution_count": 9,
   "metadata": {},
   "outputs": [
    {
     "data": {
      "text/html": [
       "<div>\n",
       "<style scoped>\n",
       "    .dataframe tbody tr th:only-of-type {\n",
       "        vertical-align: middle;\n",
       "    }\n",
       "\n",
       "    .dataframe tbody tr th {\n",
       "        vertical-align: top;\n",
       "    }\n",
       "\n",
       "    .dataframe thead th {\n",
       "        text-align: right;\n",
       "    }\n",
       "</style>\n",
       "<table border=\"1\" class=\"dataframe\">\n",
       "  <thead>\n",
       "    <tr style=\"text-align: right;\">\n",
       "      <th></th>\n",
       "      <th>ytid</th>\n",
       "      <th>aspect_list</th>\n",
       "      <th>caption</th>\n",
       "      <th>author_id</th>\n",
       "      <th>audio</th>\n",
       "    </tr>\n",
       "  </thead>\n",
       "  <tbody>\n",
       "    <tr>\n",
       "      <th>0</th>\n",
       "      <td>-0Gj8-vB1q4</td>\n",
       "      <td>['low quality', 'sustained strings melody', 's...</td>\n",
       "      <td>The low quality recording features a ballad so...</td>\n",
       "      <td>4</td>\n",
       "      <td>{'bytes': None, 'path': 'music_data/-0Gj8-vB1q...</td>\n",
       "    </tr>\n",
       "    <tr>\n",
       "      <th>1</th>\n",
       "      <td>-0SdAVK79lg</td>\n",
       "      <td>['guitar song', 'piano backing', 'simple percu...</td>\n",
       "      <td>This song features an electric guitar as the m...</td>\n",
       "      <td>0</td>\n",
       "      <td>{'bytes': None, 'path': 'music_data/-0SdAVK79l...</td>\n",
       "    </tr>\n",
       "    <tr>\n",
       "      <th>2</th>\n",
       "      <td>-0vPFx-wRRI</td>\n",
       "      <td>['amateur recording', 'finger snipping', 'male...</td>\n",
       "      <td>a male voice is singing a melody with changing...</td>\n",
       "      <td>6</td>\n",
       "      <td>{'bytes': None, 'path': 'music_data/-0vPFx-wRR...</td>\n",
       "    </tr>\n",
       "    <tr>\n",
       "      <th>3</th>\n",
       "      <td>-0xzrMun0Rs</td>\n",
       "      <td>['backing track', 'jazzy', 'digital drums', 'p...</td>\n",
       "      <td>This song contains digital drums playing a sim...</td>\n",
       "      <td>6</td>\n",
       "      <td>{'bytes': None, 'path': 'music_data/-0xzrMun0R...</td>\n",
       "    </tr>\n",
       "    <tr>\n",
       "      <th>4</th>\n",
       "      <td>-1LrH01Ei1w</td>\n",
       "      <td>['rubab instrument', 'repetitive melody on dif...</td>\n",
       "      <td>This song features a rubber instrument being p...</td>\n",
       "      <td>0</td>\n",
       "      <td>{'bytes': None, 'path': 'music_data/-1LrH01Ei1...</td>\n",
       "    </tr>\n",
       "    <tr>\n",
       "      <th>...</th>\n",
       "      <td>...</td>\n",
       "      <td>...</td>\n",
       "      <td>...</td>\n",
       "      <td>...</td>\n",
       "      <td>...</td>\n",
       "    </tr>\n",
       "    <tr>\n",
       "      <th>4417</th>\n",
       "      <td>lmrzR9cSMRY</td>\n",
       "      <td>['pop', 'acoustic piano', 'flute', 'acoustic g...</td>\n",
       "      <td>An acoustic piano is playing a melody along wi...</td>\n",
       "      <td>6</td>\n",
       "      <td>{'bytes': None, 'path': 'music_data/lmrzR9cSMR...</td>\n",
       "    </tr>\n",
       "    <tr>\n",
       "      <th>4418</th>\n",
       "      <td>lnJdWXRgjKo</td>\n",
       "      <td>['arabic music', 'sad', 'tragic', 'slow tempo'...</td>\n",
       "      <td>The song is an instrumental. The tempo is slow...</td>\n",
       "      <td>1</td>\n",
       "      <td>{'bytes': None, 'path': 'music_data/lnJdWXRgjK...</td>\n",
       "    </tr>\n",
       "    <tr>\n",
       "      <th>4968</th>\n",
       "      <td>sgJT5lIFttM</td>\n",
       "      <td>['male singer', 'rapping vocals', 'hip hop mus...</td>\n",
       "      <td>A male singer with a rough voice sings this hi...</td>\n",
       "      <td>1</td>\n",
       "      <td>{'bytes': None, 'path': 'music_data/sgJT5lIFtt...</td>\n",
       "    </tr>\n",
       "    <tr>\n",
       "      <th>4969</th>\n",
       "      <td>sgTZHSTnU40</td>\n",
       "      <td>['instrumental', 'big reverb', 'complex sound ...</td>\n",
       "      <td>An ambient instrumental piece with no drums, b...</td>\n",
       "      <td>8</td>\n",
       "      <td>{'bytes': None, 'path': 'music_data/sgTZHSTnU4...</td>\n",
       "    </tr>\n",
       "    <tr>\n",
       "      <th>4970</th>\n",
       "      <td>sgVqMKtUMsA</td>\n",
       "      <td>['alternative/indie', 'low quality', 'monotone...</td>\n",
       "      <td>The low quality recording features an alternat...</td>\n",
       "      <td>4</td>\n",
       "      <td>{'bytes': None, 'path': 'music_data/sgVqMKtUMs...</td>\n",
       "    </tr>\n",
       "  </tbody>\n",
       "</table>\n",
       "<p>1004 rows × 5 columns</p>\n",
       "</div>"
      ],
      "text/plain": [
       "             ytid                                        aspect_list  \\\n",
       "0     -0Gj8-vB1q4  ['low quality', 'sustained strings melody', 's...   \n",
       "1     -0SdAVK79lg  ['guitar song', 'piano backing', 'simple percu...   \n",
       "2     -0vPFx-wRRI  ['amateur recording', 'finger snipping', 'male...   \n",
       "3     -0xzrMun0Rs  ['backing track', 'jazzy', 'digital drums', 'p...   \n",
       "4     -1LrH01Ei1w  ['rubab instrument', 'repetitive melody on dif...   \n",
       "...           ...                                                ...   \n",
       "4417  lmrzR9cSMRY  ['pop', 'acoustic piano', 'flute', 'acoustic g...   \n",
       "4418  lnJdWXRgjKo  ['arabic music', 'sad', 'tragic', 'slow tempo'...   \n",
       "4968  sgJT5lIFttM  ['male singer', 'rapping vocals', 'hip hop mus...   \n",
       "4969  sgTZHSTnU40  ['instrumental', 'big reverb', 'complex sound ...   \n",
       "4970  sgVqMKtUMsA  ['alternative/indie', 'low quality', 'monotone...   \n",
       "\n",
       "                                                caption  author_id  \\\n",
       "0     The low quality recording features a ballad so...          4   \n",
       "1     This song features an electric guitar as the m...          0   \n",
       "2     a male voice is singing a melody with changing...          6   \n",
       "3     This song contains digital drums playing a sim...          6   \n",
       "4     This song features a rubber instrument being p...          0   \n",
       "...                                                 ...        ...   \n",
       "4417  An acoustic piano is playing a melody along wi...          6   \n",
       "4418  The song is an instrumental. The tempo is slow...          1   \n",
       "4968  A male singer with a rough voice sings this hi...          1   \n",
       "4969  An ambient instrumental piece with no drums, b...          8   \n",
       "4970  The low quality recording features an alternat...          4   \n",
       "\n",
       "                                                  audio  \n",
       "0     {'bytes': None, 'path': 'music_data/-0Gj8-vB1q...  \n",
       "1     {'bytes': None, 'path': 'music_data/-0SdAVK79l...  \n",
       "2     {'bytes': None, 'path': 'music_data/-0vPFx-wRR...  \n",
       "3     {'bytes': None, 'path': 'music_data/-0xzrMun0R...  \n",
       "4     {'bytes': None, 'path': 'music_data/-1LrH01Ei1...  \n",
       "...                                                 ...  \n",
       "4417  {'bytes': None, 'path': 'music_data/lmrzR9cSMR...  \n",
       "4418  {'bytes': None, 'path': 'music_data/lnJdWXRgjK...  \n",
       "4968  {'bytes': None, 'path': 'music_data/sgJT5lIFtt...  \n",
       "4969  {'bytes': None, 'path': 'music_data/sgTZHSTnU4...  \n",
       "4970  {'bytes': None, 'path': 'music_data/sgVqMKtUMs...  \n",
       "\n",
       "[1004 rows x 5 columns]"
      ]
     },
     "execution_count": 9,
     "metadata": {},
     "output_type": "execute_result"
    }
   ],
   "source": [
    "new_df"
   ]
  },
  {
   "cell_type": "code",
   "execution_count": 14,
   "metadata": {},
   "outputs": [],
   "source": [
    "output_dir = \"data\\music_data\""
   ]
  },
  {
   "cell_type": "code",
   "execution_count": 15,
   "metadata": {},
   "outputs": [],
   "source": [
    "\n",
    "for index, row in new_df.iterrows():\n",
    "    file_name = row['ytid']\n",
    "    content=', '.join((row['aspect_list'].replace('[','').replace(\"'\",\"\").replace(\"]\",\"\")).split(\", \"))\n",
    "    with open(os.path.join(output_dir, f'{file_name}.txt'), 'w') as f:\n",
    "        f.write(content)\n",
    "    "
   ]
  },
  {
   "cell_type": "code",
   "execution_count": 9,
   "metadata": {},
   "outputs": [
    {
     "ename": "NameError",
     "evalue": "name 'ds' is not defined",
     "output_type": "error",
     "traceback": [
      "\u001b[1;31m---------------------------------------------------------------------------\u001b[0m",
      "\u001b[1;31mNameError\u001b[0m                                 Traceback (most recent call last)",
      "Cell \u001b[1;32mIn[9], line 1\u001b[0m\n\u001b[1;32m----> 1\u001b[0m \u001b[43mds\u001b[49m[\u001b[38;5;124m'\u001b[39m\u001b[38;5;124maspect_list\u001b[39m\u001b[38;5;124m'\u001b[39m][\u001b[38;5;241m0\u001b[39m]\u001b[38;5;241m.\u001b[39mreplace(\u001b[38;5;124m'\u001b[39m\u001b[38;5;124m[\u001b[39m\u001b[38;5;124m'\u001b[39m,\u001b[38;5;124m'\u001b[39m\u001b[38;5;124m'\u001b[39m)\u001b[38;5;241m.\u001b[39mreplace(\u001b[38;5;124m\"\u001b[39m\u001b[38;5;124m'\u001b[39m\u001b[38;5;124m\"\u001b[39m,\u001b[38;5;124m\"\u001b[39m\u001b[38;5;124m\"\u001b[39m)\u001b[38;5;241m.\u001b[39mreplace(\u001b[38;5;124m\"\u001b[39m\u001b[38;5;124m]\u001b[39m\u001b[38;5;124m\"\u001b[39m,\u001b[38;5;124m\"\u001b[39m\u001b[38;5;124m\"\u001b[39m)\n",
      "\u001b[1;31mNameError\u001b[0m: name 'ds' is not defined"
     ]
    }
   ],
   "source": [
    "ds['aspect_list'][0].replace('[','').replace(\"'\",\"\").replace(\"]\",\"\")"
   ]
  },
  {
   "cell_type": "code",
   "execution_count": 8,
   "metadata": {},
   "outputs": [
    {
     "ename": "NameError",
     "evalue": "name 'ds' is not defined",
     "output_type": "error",
     "traceback": [
      "\u001b[1;31m---------------------------------------------------------------------------\u001b[0m",
      "\u001b[1;31mNameError\u001b[0m                                 Traceback (most recent call last)",
      "Cell \u001b[1;32mIn[8], line 1\u001b[0m\n\u001b[1;32m----> 1\u001b[0m \u001b[38;5;124m'\u001b[39m\u001b[38;5;124m, \u001b[39m\u001b[38;5;124m'\u001b[39m\u001b[38;5;241m.\u001b[39mjoin((\u001b[43mds\u001b[49m[\u001b[38;5;124m'\u001b[39m\u001b[38;5;124maspect_list\u001b[39m\u001b[38;5;124m'\u001b[39m][\u001b[38;5;241m0\u001b[39m]\u001b[38;5;241m.\u001b[39mreplace(\u001b[38;5;124m'\u001b[39m\u001b[38;5;124m[\u001b[39m\u001b[38;5;124m'\u001b[39m,\u001b[38;5;124m'\u001b[39m\u001b[38;5;124m'\u001b[39m)\u001b[38;5;241m.\u001b[39mreplace(\u001b[38;5;124m\"\u001b[39m\u001b[38;5;124m'\u001b[39m\u001b[38;5;124m\"\u001b[39m,\u001b[38;5;124m\"\u001b[39m\u001b[38;5;124m\"\u001b[39m)\u001b[38;5;241m.\u001b[39mreplace(\u001b[38;5;124m\"\u001b[39m\u001b[38;5;124m]\u001b[39m\u001b[38;5;124m\"\u001b[39m,\u001b[38;5;124m\"\u001b[39m\u001b[38;5;124m\"\u001b[39m))\u001b[38;5;241m.\u001b[39msplit(\u001b[38;5;124m\"\u001b[39m\u001b[38;5;124m \u001b[39m\u001b[38;5;124m\"\u001b[39m))\n",
      "\u001b[1;31mNameError\u001b[0m: name 'ds' is not defined"
     ]
    }
   ],
   "source": [
    "', '.join((ds['aspect_list'][0].replace('[','').replace(\"'\",\"\").replace(\"]\",\"\")).split(\" \"))"
   ]
  },
  {
   "cell_type": "code",
   "execution_count": null,
   "metadata": {},
   "outputs": [],
   "source": []
  },
  {
   "cell_type": "code",
   "execution_count": null,
   "metadata": {},
   "outputs": [],
   "source": []
  }
 ],
 "metadata": {
  "kernelspec": {
   "display_name": "Music_Gen",
   "language": "python",
   "name": "python3"
  },
  "language_info": {
   "codemirror_mode": {
    "name": "ipython",
    "version": 3
   },
   "file_extension": ".py",
   "mimetype": "text/x-python",
   "name": "python",
   "nbconvert_exporter": "python",
   "pygments_lexer": "ipython3",
   "version": "3.11.5"
  }
 },
 "nbformat": 4,
 "nbformat_minor": 2
}
